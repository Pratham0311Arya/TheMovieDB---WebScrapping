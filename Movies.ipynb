{
 "cells": [
  {
   "cell_type": "code",
   "execution_count": 46,
   "id": "cd5a9bd5",
   "metadata": {},
   "outputs": [],
   "source": [
    "# https://www.themoviedb.org/movie"
   ]
  },
  {
   "cell_type": "code",
   "execution_count": 2,
   "id": "01c1b171",
   "metadata": {},
   "outputs": [],
   "source": [
    "import requests\n",
    "from bs4 import BeautifulSoup\n",
    "import pandas as pd"
   ]
  },
  {
   "cell_type": "code",
   "execution_count": 3,
   "id": "3f6b95df",
   "metadata": {},
   "outputs": [],
   "source": [
    "url = \"https://www.themoviedb.org/movie?page=1\"\n",
    "header = {'User-Agent': 'Mozilla/5.0 (Windows NT 6.3; Win64; x64) AppleWebKit/537.36 (KHTML, like Gecko) Chrome/99.0.4844.51 Safari/537.36'}\n",
    "source_data = requests.get(url,headers=header).text"
   ]
  },
  {
   "cell_type": "code",
   "execution_count": 4,
   "id": "fe0710a6",
   "metadata": {},
   "outputs": [],
   "source": [
    "souped_data = BeautifulSoup(source_data,'lxml')"
   ]
  },
  {
   "cell_type": "code",
   "execution_count": 5,
   "id": "9ac9b477",
   "metadata": {},
   "outputs": [],
   "source": [
    "divs = souped_data.find('div',class_='card style_1') "
   ]
  },
  {
   "cell_type": "code",
   "execution_count": 6,
   "id": "568a6ce4",
   "metadata": {},
   "outputs": [],
   "source": [
    "name = divs.find('h2').text"
   ]
  },
  {
   "cell_type": "code",
   "execution_count": 7,
   "id": "baeaf1c4",
   "metadata": {},
   "outputs": [
    {
     "data": {
      "text/plain": [
       "'Wonka'"
      ]
     },
     "execution_count": 7,
     "metadata": {},
     "output_type": "execute_result"
    }
   ],
   "source": [
    "name"
   ]
  },
  {
   "cell_type": "code",
   "execution_count": 8,
   "id": "cc0132e3",
   "metadata": {},
   "outputs": [],
   "source": [
    "release_date = divs.find('p').text"
   ]
  },
  {
   "cell_type": "code",
   "execution_count": 9,
   "id": "8d2e692f",
   "metadata": {},
   "outputs": [
    {
     "data": {
      "text/plain": [
       "'Dec 06, 2023'"
      ]
     },
     "execution_count": 9,
     "metadata": {},
     "output_type": "execute_result"
    }
   ],
   "source": [
    "release_date"
   ]
  },
  {
   "cell_type": "code",
   "execution_count": 10,
   "id": "5068b41a",
   "metadata": {},
   "outputs": [
    {
     "data": {
      "text/plain": [
       "'https://www.themoviedb.org/movie/787699'"
      ]
     },
     "execution_count": 10,
     "metadata": {},
     "output_type": "execute_result"
    }
   ],
   "source": [
    "wrapper = divs.find('a',class_=\"image\")\n",
    "if wrapper:\n",
    "    href = wrapper.get('href')\n",
    "else:\n",
    "    print(\"No <a> tag found.\")\n",
    "\n",
    "nested_url = \"https://www.themoviedb.org\"+href\n",
    "nested_url"
   ]
  },
  {
   "cell_type": "code",
   "execution_count": 11,
   "id": "3cadfe0e",
   "metadata": {},
   "outputs": [],
   "source": [
    "header = {'User-Agent': 'Mozilla/5.0 (Windows NT 6.3; Win64; x64) AppleWebKit/537.36 (KHTML, like Gecko) Chrome/99.0.4844.51 Safari/537.36'}\n",
    "req2 = requests.get(nested_url,headers=header).text\n",
    "req2_s = BeautifulSoup(req2,'lxml')"
   ]
  },
  {
   "cell_type": "code",
   "execution_count": 12,
   "id": "b15b16fc",
   "metadata": {},
   "outputs": [],
   "source": [
    "rating = req2_s.find('div',class_=\"user_score_chart\")\n",
    "if rating:\n",
    "    rating = rating.get('data-percent')\n",
    "else:\n",
    "    rating= None"
   ]
  },
  {
   "cell_type": "code",
   "execution_count": 13,
   "id": "be58b5dc",
   "metadata": {},
   "outputs": [
    {
     "data": {
      "text/plain": [
       "'72.0'"
      ]
     },
     "execution_count": 13,
     "metadata": {},
     "output_type": "execute_result"
    }
   ],
   "source": [
    "rating"
   ]
  },
  {
   "cell_type": "code",
   "execution_count": 14,
   "id": "1acbc212",
   "metadata": {},
   "outputs": [
    {
     "data": {
      "text/plain": [
       "'1h 57m'"
      ]
     },
     "execution_count": 14,
     "metadata": {},
     "output_type": "execute_result"
    }
   ],
   "source": [
    "duration = req2_s.find('span',class_=\"runtime\").text.replace(\"\\n\",\"\").strip()\n",
    "duration"
   ]
  },
  {
   "cell_type": "code",
   "execution_count": 23,
   "id": "31c1dd3f",
   "metadata": {},
   "outputs": [],
   "source": [
    "genres = []\n",
    "genre = req2_s.find('div',class_='facts')\n",
    "gen = genre.find_all('a')\n",
    "\n",
    "for i in range(0,len(gen)):\n",
    "    genres.append(gen[i].text)"
   ]
  },
  {
   "cell_type": "code",
   "execution_count": 24,
   "id": "59155385",
   "metadata": {},
   "outputs": [
    {
     "data": {
      "text/plain": [
       "['Comedy', 'Family', 'Fantasy']"
      ]
     },
     "execution_count": 24,
     "metadata": {},
     "output_type": "execute_result"
    }
   ],
   "source": [
    "genres"
   ]
  },
  {
   "cell_type": "code",
   "execution_count": 25,
   "id": "00dd1f45",
   "metadata": {},
   "outputs": [],
   "source": [
    "dc = req2_s.find('li',class_='profile')\n",
    "director = dc.find('a').text"
   ]
  },
  {
   "cell_type": "code",
   "execution_count": 26,
   "id": "2612e1ad",
   "metadata": {},
   "outputs": [
    {
     "data": {
      "text/plain": [
       "'Paul King'"
      ]
     },
     "execution_count": 26,
     "metadata": {},
     "output_type": "execute_result"
    }
   ],
   "source": [
    "director"
   ]
  },
  {
   "cell_type": "code",
   "execution_count": null,
   "id": "6546b5bf",
   "metadata": {},
   "outputs": [],
   "source": []
  }
 ],
 "metadata": {
  "kernelspec": {
   "display_name": "Python 3 (ipykernel)",
   "language": "python",
   "name": "python3"
  },
  "language_info": {
   "codemirror_mode": {
    "name": "ipython",
    "version": 3
   },
   "file_extension": ".py",
   "mimetype": "text/x-python",
   "name": "python",
   "nbconvert_exporter": "python",
   "pygments_lexer": "ipython3",
   "version": "3.11.5"
  }
 },
 "nbformat": 4,
 "nbformat_minor": 5
}
