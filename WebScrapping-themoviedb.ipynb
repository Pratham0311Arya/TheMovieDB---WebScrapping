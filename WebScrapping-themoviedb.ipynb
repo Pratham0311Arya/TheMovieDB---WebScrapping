{
 "cells": [
  {
   "cell_type": "code",
   "execution_count": 9,
   "id": "3b22f822",
   "metadata": {},
   "outputs": [],
   "source": [
    "import requests\n",
    "from bs4 import BeautifulSoup\n",
    "import pandas as pd"
   ]
  },
  {
   "cell_type": "markdown",
   "id": "b8a359ee",
   "metadata": {},
   "source": [
    "# Fetching details of all 50 pages"
   ]
  },
  {
   "cell_type": "code",
   "execution_count": 10,
   "id": "bb4e69ac",
   "metadata": {},
   "outputs": [],
   "source": [
    "# Creating a list of URLs for pages 1 to 50\n",
    "url = []\n",
    "for i in range(1, 51):\n",
    "    url_str = \"https://www.themoviedb.org/movie?page=\" + str(i)\n",
    "    url.append(url_str)"
   ]
  },
  {
   "cell_type": "code",
   "execution_count": null,
   "id": "477e19b8",
   "metadata": {},
   "outputs": [],
   "source": [
    "# List to store extracted movie data\n",
    "moviesdata = []\n",
    "\n",
    "# Function to extract data from each URL\n",
    "def extract_data(url):\n",
    "    for item in url:\n",
    "        # Defining user-agent to avoid any restrictions\n",
    "        header = {'User-Agent': 'Mozilla/5.0 (Windows NT 6.3; Win64; x64) AppleWebKit/537.36 (KHTML, like Gecko) Chrome/99.0.4844.51 Safari/537.36'}\n",
    "        \n",
    "        # Sending a request to the URL and getting the HTML content\n",
    "        source_data = requests.get(item, headers=header).text\n",
    "        souped_data = BeautifulSoup(source_data, 'lxml')\n",
    "        \n",
    "        # Extracting movie information from each card on the page\n",
    "        all_divs = souped_data.find_all('div', class_='card style_1')\n",
    "        \n",
    "        for i in all_divs:\n",
    "            # Extracting movie name and release date\n",
    "            name_element = i.find('h2')\n",
    "            release_date_element = i.find('p')\n",
    "            \n",
    "            if name_element and release_date_element:\n",
    "                name = name_element.text\n",
    "                release_date = release_date_element.text\n",
    "                \n",
    "                # Extracting nested URL for detailed movie information\n",
    "                wrapper = i.find('a', class_=\"image\")\n",
    "                if wrapper:\n",
    "                    href = wrapper.get('href')\n",
    "                    nested_url = \"https://www.themoviedb.org\" + href\n",
    "                    \n",
    "                    # Sending a request to the nested URL and getting the HTML content\n",
    "                    req2 = requests.get(nested_url, headers=header).text\n",
    "                    req2_s = BeautifulSoup(req2, 'lxml')\n",
    "                    \n",
    "                    # Extracting movie rating, duration, genres, and director\n",
    "                    rating_element = req2_s.find('div', class_=\"user_score_chart\")\n",
    "                    duration_element = req2_s.find('span', class_=\"runtime\")\n",
    "                    genre_element = req2_s.find('div', class_='facts')\n",
    "                    dc = req2_s.find('li', class_='profile')\n",
    "                    \n",
    "                    # Extracting data only if the elements are found\n",
    "                    if rating_element:\n",
    "                        rating = rating_element.get('data-percent')\n",
    "                    if duration_element:\n",
    "                        duration = duration_element.text.replace(\"\\n\", \"\").strip()\n",
    "                    genres = [g.text for g in gen] if genre_element else []\n",
    "                    director = dc.find('a').text if dc else None\n",
    "                    \n",
    "                    # Creating a dictionary to store movie details\n",
    "                    moviedict = {\n",
    "                        \"Name\": name,\n",
    "                        \"Release Date\": release_date,\n",
    "                        \"Ratings\": rating if 'rating' in locals() else None,\n",
    "                        \"Duration\": duration if 'duration' in locals() else None,\n",
    "                        \"Genre\": genres,\n",
    "                        \"Director\": director if 'director' in locals() else None\n",
    "                    }\n",
    "                    \n",
    "                    # Appending the dictionary to the list\n",
    "                    moviesdata.append(moviedict)\n",
    "    \n",
    "    # Returning the list of movie data\n",
    "    return moviesdata\n",
    "\n",
    "# Extracting data from the URLs and storing it in a DataFrame\n",
    "df = pd.DataFrame(extract_data(url))\n",
    "\n",
    "# Saving the DataFrame to an Excel file\n",
    "df.to_excel(\"moviedetails.xlsx\")\n"
   ]
  }
 ],
 "metadata": {
  "kernelspec": {
   "display_name": "Python 3 (ipykernel)",
   "language": "python",
   "name": "python3"
  },
  "language_info": {
   "codemirror_mode": {
    "name": "ipython",
    "version": 3
   },
   "file_extension": ".py",
   "mimetype": "text/x-python",
   "name": "python",
   "nbconvert_exporter": "python",
   "pygments_lexer": "ipython3",
   "version": "3.11.5"
  }
 },
 "nbformat": 4,
 "nbformat_minor": 5
}
